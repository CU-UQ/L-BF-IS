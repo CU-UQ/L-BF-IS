{
 "cells": [
  {
   "attachments": {},
   "cell_type": "markdown",
   "metadata": {},
   "source": [
    "# One dimension experiment\n",
    "\n",
    "This is a 1D experiment for the trial HF function \n",
    "\\begin{align}\n",
    "f^{HF}(x) = \\exp(-\\sin(x)),\n",
    "\\end{align}\n",
    "and trial LF function\n",
    "\\begin{align}\n",
    "f^{LF}(x) = \\sum_{n=1}^3\\frac{(-\\sin(x))^n}{n!}.\n",
    "\\end{align}"
   ]
  },
  {
   "cell_type": "code",
   "execution_count": 8,
   "metadata": {},
   "outputs": [],
   "source": [
    "import numpy as np\n",
    "import matplotlib.pyplot as plt\n",
    "import torch\n",
    "import sys \n",
    "sys.path.append('../')\n",
    "import models\n",
    "import math"
   ]
  },
  {
   "cell_type": "code",
   "execution_count": 9,
   "metadata": {},
   "outputs": [],
   "source": [
    "# the element function\n",
    "def element(xi):\n",
    "    k   = torch.tensor([1.0])\n",
    "    vec = torch.sin(k)/k\n",
    "    return 2 - xi@vec\n",
    "\n",
    "# the finite sum function\n",
    "def finite_sum(xi, M):\n",
    "    res  = torch.zeros(len(xi))\n",
    "    elem = element(xi)\n",
    "    for m in range(M+1):\n",
    "        res += elem ** m/math.factorial(m)\n",
    "    return res\n",
    "\n",
    "# LF evaluation function\n",
    "def f_LF(xi):\n",
    "    M = 3\n",
    "    return finite_sum(xi, M)\n",
    "\n",
    "# HF evaluation function\n",
    "def f_HF(xi):\n",
    "    elem = element(xi)\n",
    "    return elem.exp()\n",
    "\n",
    "# sampling x by p(x)\n",
    "def sample_p(N):\n",
    "    return torch.rand(N, 1)"
   ]
  },
  {
   "cell_type": "code",
   "execution_count": 10,
   "metadata": {},
   "outputs": [
    {
     "name": "stdout",
     "output_type": "stream",
     "text": [
      "tensor([4.0956, 5.3911, 3.4552, 3.2614, 4.9534, 4.3871, 3.1856, 5.0041, 4.0508,\n",
      "        5.4948])\n",
      "tensor([4.3686, 6.0484, 3.6042, 3.3810, 5.4602, 4.7306, 3.2947, 5.5273, 4.3137,\n",
      "        6.1909])\n"
     ]
    }
   ],
   "source": [
    "## conduct experiments for estimating ExH with regular MC and L-BF-IS\n",
    "path = 'data/dim-1000.npy'\n",
    "\n",
    "# construct the L-BF-IS estimator\n",
    "model = models.LBFIS(f_LF, sample_p, torch.tensor([0.0,1.0]))\n",
    "\n",
    "# update model lengthscale\n",
    "model.l = 0.80"
   ]
  }
 ],
 "metadata": {
  "kernelspec": {
   "display_name": "base",
   "language": "python",
   "name": "python3"
  },
  "language_info": {
   "codemirror_mode": {
    "name": "ipython",
    "version": 3
   },
   "file_extension": ".py",
   "mimetype": "text/x-python",
   "name": "python",
   "nbconvert_exporter": "python",
   "pygments_lexer": "ipython3",
   "version": "3.8.5"
  },
  "orig_nbformat": 4
 },
 "nbformat": 4,
 "nbformat_minor": 2
}
