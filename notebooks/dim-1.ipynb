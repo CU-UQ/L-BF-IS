{
 "cells": [
  {
   "attachments": {},
   "cell_type": "markdown",
   "metadata": {},
   "source": [
    "# One dimension experiment\n",
    "\n",
    "This is a 1D experiment for the trial HF function \n",
    "\\begin{align}\n",
    "f^{HF}(x) = \\exp(2-\\sin(1)x),\n",
    "\\end{align}\n",
    "and trial LF function\n",
    "\\begin{align}\n",
    "f^{LF}(x) = \\sum_{n=0}^3\\frac{(2-\\sin(1)x)^n}{n!}.\n",
    "\\end{align}"
   ]
  },
  {
   "cell_type": "code",
   "execution_count": 2,
   "metadata": {},
   "outputs": [],
   "source": [
    "import numpy as np\n",
    "import matplotlib.pyplot as plt\n",
    "import torch\n",
    "import sys \n",
    "sys.path.append('../')\n",
    "import models\n",
    "import math"
   ]
  },
  {
   "cell_type": "code",
   "execution_count": 3,
   "metadata": {},
   "outputs": [],
   "source": [
    "# the element function\n",
    "def element(xi):\n",
    "    vec = torch.sin(torch.Tensor([1.0]))\n",
    "    return (2 - vec * xi).squeeze(1)\n",
    "\n",
    "# the finite sum function\n",
    "def finite_sum(xi, M):\n",
    "    res  = torch.zeros(len(xi))\n",
    "    elem = element(xi)\n",
    "    for m in range(M+1):\n",
    "        res += elem ** m/math.factorial(m)\n",
    "    return res\n",
    "\n",
    "# LF evaluation function\n",
    "def f_LF(xi):\n",
    "    M = 3\n",
    "    return finite_sum(xi, M)\n",
    "\n",
    "# HF evaluation function\n",
    "def f_HF(xi):\n",
    "    elem = element(xi)\n",
    "    return elem.exp()\n",
    "\n",
    "# sampling x by p(x)\n",
    "def sample_p(N):\n",
    "    return torch.rand(N, 1)"
   ]
  },
  {
   "attachments": {},
   "cell_type": "markdown",
   "metadata": {},
   "source": [
    "As $q(x)$ is \n",
    "\\begin{align}\n",
    "q(x) \\propto \\frac{(f^{LF}(x) - \\mu^{LF})^2}{2\\ell^2}\n",
    "\\end{align}"
   ]
  },
  {
   "cell_type": "code",
   "execution_count": 4,
   "metadata": {},
   "outputs": [
    {
     "data": {
      "text/plain": [
       "<matplotlib.legend.Legend at 0x7f85d2e128b0>"
      ]
     },
     "execution_count": 4,
     "metadata": {},
     "output_type": "execute_result"
    },
    {
     "data": {
      "image/png": "[encoded data removed]",
      "text/plain": [
       "<Figure size 576x288 with 1 Axes>"
      ]
     },
     "metadata": {
      "needs_background": "light"
     },
     "output_type": "display_data"
    }
   ],
   "source": [
    "# evaluate ExL and ExH\n",
    "x   = sample_p(int(1e6))\n",
    "xL = f_LF(x)\n",
    "xH = f_HF(x)\n",
    "ExL = xL.mean().item()\n",
    "ExH = xH.mean().item()\n",
    "SxL = xL.std().item()\n",
    "SxH = xH.std().item()\n",
    "\n",
    "bound = torch.tensor([0, 1]) # range of inputs\n",
    "\n",
    "# plot histograms of xL and xH\n",
    "plt.figure(figsize=(8,4))\n",
    "plt.hist([xL,xH],label=[r'$f^{LF}(X)$',r'$f^{HF}(X)$'],color=['tab:blue','tab:red'])\n",
    "plt.axvline(x = ExL, color = 'tab:blue', label = r'$\\mu^{LF}$')\n",
    "plt.axvline(x = ExH, color = 'tab:red', label = r'$\\mu^{HF}$')\n",
    "plt.legend()"
   ]
  },
  {
   "cell_type": "code",
   "execution_count": 5,
   "metadata": {},
   "outputs": [
    {
     "data": {
      "text/plain": [
       "<matplotlib.legend.Legend at 0x7f85e0d25ac0>"
      ]
     },
     "execution_count": 5,
     "metadata": {},
     "output_type": "execute_result"
    },
    {
     "data": {
      "image/png": "[encoded data removed]",
      "text/plain": [
       "<Figure size 576x288 with 1 Axes>"
      ]
     },
     "metadata": {
      "needs_background": "light"
     },
     "output_type": "display_data"
    }
   ],
   "source": [
    "# plot histograms of normalized xL and xH\n",
    "n_xL = (xL - ExL)/SxL\n",
    "n_xH = (xH - ExH)/SxH\n",
    "\n",
    "plt.figure(figsize=(8,4))\n",
    "plt.hist([n_xL, n_xH],label=[r'$\\bar{f}^{LF}(X)$',r'$\\bar{f}^{HF}(X)$'],color=['tab:blue','tab:red'])\n",
    "plt.legend()"
   ]
  },
  {
   "cell_type": "code",
   "execution_count": 6,
   "metadata": {},
   "outputs": [],
   "source": [
    "from scipy.interpolate import interp1d\n",
    "from scipy.integrate import cumtrapz\n",
    "\n",
    "# plot biasing density q(x)\n",
    "ell = 0.2\n",
    "def q(x):\n",
    "    return torch.exp(-((f_LF(x) - ExL)**2/(2 * ell**2)))\n",
    "\n",
    "def get_inverted_cdf(xs, pdfs):\n",
    "    cdfs = cumtrapz(pdfs, x=xs) # Get the CDF using a very fast trapz rule\n",
    "    cdfs = cdfs / cdfs.max()  # Ensure its normalised, to cater for unnormalised PDFs\n",
    "    cdfs = np.insert(cdfs, 0, 0)  # Add the 0 area to start of the CDF array\n",
    "    return interp1d(cdfs, xs, kind=\"linear\")  # return interpolation from cdf -> x\n",
    "    \n",
    "def sample_fn(fn, n=1):\n",
    "    return fn(np.random.random(size=n))"
   ]
  },
  {
   "cell_type": "code",
   "execution_count": 7,
   "metadata": {},
   "outputs": [],
   "source": [
    "xs = torch.linspace(0.2, 0.8, 1000).unsqueeze(1)\n",
    "pdfs = q(xs).detach().numpy()\n",
    "xs = xs.squeeze().detach().numpy()\n",
    "fn = get_inverted_cdf(xs, pdfs)\n",
    "q_smps_1 = sample_fn(fn, n=100000)"
   ]
  },
  {
   "cell_type": "code",
   "execution_count": 8,
   "metadata": {},
   "outputs": [
    {
     "data": {
      "text/plain": [
       "[<matplotlib.lines.Line2D at 0x7f85c200ed00>]"
      ]
     },
     "execution_count": 8,
     "metadata": {},
     "output_type": "execute_result"
    },
    {
     "data": {
      "image/png": "[encoded data removed]",
      "text/plain": [
       "<Figure size 432x288 with 1 Axes>"
      ]
     },
     "metadata": {
      "needs_background": "light"
     },
     "output_type": "display_data"
    }
   ],
   "source": [
    "plt.plot(xs, pdfs, label='q(x)')"
   ]
  },
  {
   "cell_type": "code",
   "execution_count": 9,
   "metadata": {},
   "outputs": [
    {
     "data": {
      "image/png": "[encoded data removed]",
      "text/plain": [
       "<Figure size 432x288 with 1 Axes>"
      ]
     },
     "metadata": {
      "needs_background": "light"
     },
     "output_type": "display_data"
    }
   ],
   "source": [
    "_ = plt.hist(q_smps_1, bins=100, density=True, label='q(x)')"
   ]
  },
  {
   "cell_type": "code",
   "execution_count": 10,
   "metadata": {},
   "outputs": [],
   "source": [
    "# apply Langevin algorithm to sample from q(x)\n",
    "from tqdm import tqdm\n",
    "def potential(z,ell): # evaluate the potential function for the given z\n",
    "    return (f_LF(z)-ExL)**2/(2*ell**2)\n",
    "\n",
    "def unadjusted_langevin_algorithm(potential, iter_num=int(1e4), step=1e-4, burn_in=int(1e6)):\n",
    "    Z0 = sample_p(1)\n",
    "    Zi = Z0\n",
    "    samples = []\n",
    "    for i in tqdm(range(iter_num + burn_in)):\n",
    "        Zi.requires_grad_()\n",
    "        u = potential(Zi,ell).mean()\n",
    "        grad = torch.autograd.grad(u, Zi)[0]\n",
    "        rejected = True\n",
    "        while rejected:\n",
    "            new_Zi = Zi.detach() - step * ell**2 * grad + np.sqrt(2 * step * ell**2) * torch.randn(1)\n",
    "            if (new_Zi < 1).all() and (new_Zi > 0).all():\n",
    "                Zi = new_Zi\n",
    "                rejected = False\n",
    "        samples.append(Zi.detach())\n",
    "    return torch.cat(samples, 0)[burn_in:]"
   ]
  },
  {
   "cell_type": "code",
   "execution_count": 24,
   "metadata": {},
   "outputs": [
    {
     "name": "stderr",
     "output_type": "stream",
     "text": [
      "100%|██████████| 1100000/1100000 [06:15<00:00, 2929.83it/s]\n"
     ]
    }
   ],
   "source": [
    "q_smps_2 = unadjusted_langevin_algorithm(potential, iter_num=int(1e5), step=1e-4, burn_in=int(1e6))"
   ]
  },
  {
   "cell_type": "code",
   "execution_count": 25,
   "metadata": {},
   "outputs": [
    {
     "data": {
      "text/plain": [
       "(100000,)"
      ]
     },
     "execution_count": 25,
     "metadata": {},
     "output_type": "execute_result"
    }
   ],
   "source": [
    "q_smps_2 = q_smps_2.squeeze().detach().numpy()\n",
    "q_smps_2.shape"
   ]
  },
  {
   "cell_type": "code",
   "execution_count": 26,
   "metadata": {},
   "outputs": [
    {
     "data": {
      "text/plain": [
       "Text(0.5, 1.0, 'Langevin algorithm')"
      ]
     },
     "execution_count": 26,
     "metadata": {},
     "output_type": "execute_result"
    },
    {
     "data": {
      "image/png": "[encoded data removed]",
      "text/plain": [
       "<Figure size 1080x288 with 3 Axes>"
      ]
     },
     "metadata": {
      "needs_background": "light"
     },
     "output_type": "display_data"
    }
   ],
   "source": [
    "fig, axs = plt.subplots(1, 3, figsize=(15, 4), sharex=True)\n",
    "axs[0].plot(xs, pdfs)\n",
    "axs[0].set_title('density function')\n",
    "axs[1].hist(q_smps_1, bins=100, density=True)\n",
    "axs[1].set_title('inversion sampling')\n",
    "axs[2].hist(q_smps_2, bins=100, density=True)\n",
    "axs[2].set_title('Langevin algorithm')\n",
    "# fig.savefig('dim-1.png', dpi=200)"
   ]
  },
  {
   "cell_type": "code",
   "execution_count": 12,
   "metadata": {},
   "outputs": [],
   "source": [
    "def weight(xi): # evaluate the unnormalized weight for the given xi\n",
    "    wt = ((f_LF(xi) - ExL).square()/(2*ell**2)).exp()\n",
    "    return wt"
   ]
  },
  {
   "cell_type": "code",
   "execution_count": 33,
   "metadata": {},
   "outputs": [],
   "source": [
    "x_q_lst = q_smps_2.reshape(100000, 1)"
   ]
  },
  {
   "cell_type": "code",
   "execution_count": 34,
   "metadata": {},
   "outputs": [],
   "source": [
    "MC_N_lst = (10**np.linspace(0, 4, 10)).astype('int')\n",
    "MC = []\n",
    "IS = []\n",
    "wt = []\n",
    "num_trial = 100\n",
    "for j in range(num_trial):\n",
    "    MC_est_lst = []\n",
    "    IS_est_lst = []\n",
    "    wt_lst     = []\n",
    "    for MC_N in MC_N_lst:\n",
    "        xi_p = sample_p(MC_N) # sample MC xi_p\n",
    "        xi_q = x_q_lst[np.random.choice(len(x_q_lst),MC_N)] # sample xi_q\n",
    "        wt_q = weight(xi_q)\n",
    "        wt_q /= wt_q.sum()\n",
    "        MC_est_lst.append(f_HF(xi_p).mean().item())\n",
    "        IS_est_lst.append((wt_q * f_HF(xi_q)).sum().item())\n",
    "        wt_lst.append(wt_q)\n",
    "    MC.append(MC_est_lst)\n",
    "    IS.append(IS_est_lst)\n",
    "    wt.append(wt_lst)\n",
    "\n",
    "MC      = np.array(MC)\n",
    "IS      = np.array(IS)\n",
    "MC_mean = np.nanmean(MC, axis=0)\n",
    "MC_std  = np.nanstd(MC, axis=0)\n",
    "IS_mean = np.nanmean(IS, axis=0)\n",
    "IS_std  = np.nanstd(IS, axis=0)"
   ]
  },
  {
   "cell_type": "code",
   "execution_count": 37,
   "metadata": {},
   "outputs": [
    {
     "data": {
      "text/plain": [
       "[5.477534770965576,\n",
       " 4.734964370727539,\n",
       " 4.522583484649658,\n",
       " 4.607136249542236,\n",
       " 4.921220302581787,\n",
       " 4.983611106872559,\n",
       " 5.102296829223633,\n",
       " 5.007802486419678,\n",
       " 5.030858039855957,\n",
       " 5.01120662689209]"
      ]
     },
     "execution_count": 37,
     "metadata": {},
     "output_type": "execute_result"
    }
   ],
   "source": [
    "MC_est_lst"
   ]
  },
  {
   "cell_type": "code",
   "execution_count": 23,
   "metadata": {},
   "outputs": [
    {
     "data": {
      "text/plain": [
       "(10000, 1)"
      ]
     },
     "execution_count": 23,
     "metadata": {},
     "output_type": "execute_result"
    }
   ],
   "source": [
    "xi_q.shape"
   ]
  },
  {
   "cell_type": "code",
   "execution_count": 35,
   "metadata": {},
   "outputs": [
    {
     "data": {
      "text/plain": [
       "Text(0.5, 1.0, '$\\\\ell=0.2$')"
      ]
     },
     "execution_count": 35,
     "metadata": {},
     "output_type": "execute_result"
    },
    {
     "data": {
      "image/png": "[encoded data removed]",
      "text/plain": [
       "<Figure size 576x432 with 1 Axes>"
      ]
     },
     "metadata": {
      "needs_background": "light"
     },
     "output_type": "display_data"
    }
   ],
   "source": [
    "scale = 1.94\n",
    "plt.figure(figsize=(8,6))\n",
    "plt.fill_between(MC_N_lst, MC_mean-scale*MC_std, MC_mean+scale*MC_std,color='b',alpha=0.2,label='MC')\n",
    "plt.fill_between(MC_N_lst, IS_mean-scale*IS_std, IS_mean+scale*IS_std,color='g',alpha=0.2,label='L-BF-IS')\n",
    "plt.axhline(ExH,c='r',label=r'$\\mu^{HF}$')\n",
    "plt.xscale('log')\n",
    "plt.xlabel('HF Sample Size')\n",
    "plt.ylabel('Estimator Value')\n",
    "plt.legend()\n",
    "plt.title(r'$\\ell=0.2$')\n",
    "# plt.savefig('dim1000-l-035.pdf',format='pdf',dpi=200)"
   ]
  }
 ],
 "metadata": {
  "kernelspec": {
   "display_name": "base",
   "language": "python",
   "name": "python3"
  },
  "language_info": {
   "codemirror_mode": {
    "name": "ipython",
    "version": 3
   },
   "file_extension": ".py",
   "mimetype": "text/x-python",
   "name": "python",
   "nbconvert_exporter": "python",
   "pygments_lexer": "ipython3",
   "version": "3.8.5"
  },
  "orig_nbformat": 4
 },
 "nbformat": 4,
 "nbformat_minor": 2
}
