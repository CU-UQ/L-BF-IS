{
 "cells": [
  {
   "cell_type": "code",
   "execution_count": 1,
   "metadata": {},
   "outputs": [],
   "source": [
    "# import data\n",
    "from BidataGen import sample_p\n",
    "from model import LBFIS, gaussian_mix\n",
    "from BidataGen import otds_HF as HF\n",
    "from BidataGen import otds_LF as LF\n",
    "import numpy as np\n",
    "import matplotlib.pyplot as plt\n",
    "import torch"
   ]
  },
  {
   "cell_type": "code",
   "execution_count": 8,
   "metadata": {},
   "outputs": [
    {
     "name": "stdout",
     "output_type": "stream",
     "text": [
      "19.95382 8.473703\n"
     ]
    },
    {
     "data": {
      "image/png": "[encoded data removed]",
      "text/plain": [
       "<Figure size 432x288 with 1 Axes>"
      ]
     },
     "metadata": {
      "needs_background": "light"
     },
     "output_type": "display_data"
    }
   ],
   "source": [
    "num_variable = 1000\n",
    "sample = lambda n: sample_p(n, num_variable)\n",
    "def h_LF(x):\n",
    "    ind = (x < -1).any(axis=1) + (x > 1).any(axis=1)\n",
    "    ans = 8.5 - LF(x)\n",
    "    ans[ind] = 100 * torch.norm(x[ind], dim=1)**2\n",
    "    return ans\n",
    "def h_HF(x):\n",
    "    ind = (x < -1).any(axis=1) + (x > 1).any(axis=1)\n",
    "    ans = 20 - HF(x)\n",
    "    ans[ind] = 100 * torch.norm(x[ind], dim=1)**2\n",
    "    return ans\n",
    "\n",
    "X = sample(1000)\n",
    "lf, hf = LF(X).detach().numpy(), HF(X).detach().numpy()\n",
    "plt.hist(lf, bins=20, alpha=0.5, label='LF')\n",
    "plt.hist(hf, bins=20, alpha=0.5, label='HF')\n",
    "plt.legend(loc='upper right')\n",
    "print(np.sort(hf)[950], np.sort(lf)[950])"
   ]
  },
  {
   "cell_type": "code",
   "execution_count": 18,
   "metadata": {},
   "outputs": [
    {
     "name": "stdout",
     "output_type": "stream",
     "text": [
      "The failure probability of the high-fidelity model is 0.045922\n",
      "The optimal value of ell is 2.5\n"
     ]
    },
    {
     "data": {
      "image/png": "[encoded data removed]",
      "text/plain": [
       "<Figure size 432x288 with 1 Axes>"
      ]
     },
     "metadata": {
      "needs_background": "light"
     },
     "output_type": "display_data"
    }
   ],
   "source": [
    "# selcting optimal ell\n",
    "L = int(1e6)\n",
    "M = int(1e6)\n",
    "# fix samples\n",
    "samps_M = sample(M)\n",
    "samps_L = sample(L)\n",
    "h_samps_M = h_LF(samps_M)\n",
    "h_samps_L = h_LF(samps_L)\n",
    "h_samps_LL = h_LF(samps_L)\n",
    "\n",
    "ExH = np.mean((h_HF(samps_M) < 0).detach().numpy())\n",
    "print(\"The failure probability of the high-fidelity model is\", ExH)\n",
    "\n",
    "def Zl(ell):\n",
    "    return (-ell*torch.tanh(h_samps_M)).exp().sum() / M\n",
    "def V(ell):\n",
    "    varq1 = (torch.exp(ell*torch.tanh(h_samps_LL))[h_samps_L < 0]).sum() / L\n",
    "    varq2 = ((h_samps_L < 0).sum())**2 / (L**2)\n",
    "    return Zl(ell) * varq1 - varq2\n",
    "\n",
    "ell_lst = np.linspace(-2, 8, 21)\n",
    "V_lst = [V(torch.tensor(ell)).item() for ell in ell_lst]\n",
    "\n",
    "plt.plot(ell_lst, V_lst)\n",
    "plt.yscale('log')\n",
    "\n",
    "if torch.sum(h_samps_L < 0) > 0:\n",
    "    ell = ell_lst[torch.argmin(torch.tensor(V_lst))]\n",
    "else:\n",
    "    ell = 1.0\n",
    "est = LBFIS(h_LF, sample, ell, num_variable)\n",
    "print('The optimal value of ell is', ell)"
   ]
  },
  {
   "cell_type": "code",
   "execution_count": 28,
   "metadata": {},
   "outputs": [],
   "source": [
    "# from tqdm import tqdm\n",
    "# def log_Q(potential, z_prime, z, step):\n",
    "#     z.requires_grad_()\n",
    "#     grad = torch.autograd.grad(potential(z).mean(), z)[0]\n",
    "#     return -(torch.norm(z_prime - z + step * grad, p=2, dim=1) ** 2) / (4 * step)\n",
    "\n",
    "# def metropolis_adjusted_langevin_algorithm(potential, n_samples=int(1e4), step=1e-2):\n",
    "#     burn_in = int(1e3)\n",
    "#     Z0 = sample(1)\n",
    "#     Zi = Z0\n",
    "#     samples = []\n",
    "#     pbar = tqdm(range(n_samples + burn_in))\n",
    "#     for i in pbar:\n",
    "#         Zi.requires_grad_()\n",
    "#         u = potential(Zi).mean()\n",
    "#         grad = torch.autograd.grad(u, Zi)[0]\n",
    "#         prop_Zi = Zi.detach() - step * grad + np.sqrt(2 * step) * torch.randn(1, num_variable)\n",
    "#         log_ratio = -potential(prop_Zi).mean() + potential(Zi).mean() +\\\n",
    "#                     log_Q(potential, Zi, prop_Zi, step) - log_Q(potential, prop_Zi, Zi, step)\n",
    "#         if torch.rand(1) < torch.exp(log_ratio):\n",
    "#             Zi = prop_Zi\n",
    "#         samples.append(Zi.detach().numpy())\n",
    "#     return np.concatenate(samples, 0)[burn_in:]\n",
    "# q_lst = metropolis_adjusted_langevin_algorithm(est.potential)\n",
    "# q_lst = torch.from_numpy(q_lst).type(torch.FloatTensor)\n",
    "# print('The number of failures sampled by q is ', (h_HF(q_lst) < 0).sum().item())"
   ]
  },
  {
   "cell_type": "code",
   "execution_count": 12,
   "metadata": {},
   "outputs": [
    {
     "name": "stderr",
     "output_type": "stream",
     "text": [
      "100%|██████████| 11000/11000 [00:54<00:00, 200.05it/s]\n"
     ]
    },
    {
     "name": "stdout",
     "output_type": "stream",
     "text": [
      "The number of failures sampled by q is  6294\n"
     ]
    }
   ],
   "source": [
    "q_lst = est.unadjusted_langevin_algorithm(iter_num=int(1e4), step=1e-3, burn_in=int(1e3), num_thread=1)\n",
    "print('The number of failures sampled by q is ', (h_HF(q_lst) < 0).sum().item())"
   ]
  },
  {
   "cell_type": "code",
   "execution_count": 17,
   "metadata": {},
   "outputs": [
    {
     "name": "stdout",
     "output_type": "stream",
     "text": [
      "tensor(0.0578)\n",
      "0.045756\n"
     ]
    }
   ],
   "source": [
    "Zc = Zl(ell)\n",
    "print((Zc * est.weight(q_lst)[h_HF(q_lst) < 0]).sum()/(len(q_lst)))\n",
    "print(ExH)"
   ]
  },
  {
   "cell_type": "code",
   "execution_count": 14,
   "metadata": {},
   "outputs": [
    {
     "name": "stderr",
     "output_type": "stream",
     "text": [
      "/opt/anaconda3/lib/python3.7/site-packages/ipykernel_launcher.py:33: RuntimeWarning: Mean of empty slice\n",
      "/opt/anaconda3/lib/python3.7/site-packages/numpy/lib/nanfunctions.py:1671: RuntimeWarning: Degrees of freedom <= 0 for slice.\n",
      "  keepdims=keepdims)\n",
      "/opt/anaconda3/lib/python3.7/site-packages/ipykernel_launcher.py:40: RuntimeWarning: Mean of empty slice\n"
     ]
    }
   ],
   "source": [
    "MC_N_lst = (10**np.linspace(1, 4, 10)).astype('int')\n",
    "MC = []\n",
    "IS = []\n",
    "GM = []\n",
    "num_trial = 100\n",
    "num_trial_gm = 10\n",
    "for j in range(num_trial):\n",
    "    MC_est_lst = []\n",
    "    IS_est_lst = []\n",
    "    for MC_N in MC_N_lst:\n",
    "        xi_p = sample(MC_N) # sample MC xi_p\n",
    "        xi_q = q_lst[np.random.choice(len(q_lst),MC_N)] # sample xi_q\n",
    "        wt_q = est.weight(xi_q)\n",
    "        wt_q *= Zc / MC_N\n",
    "        MC_est_lst.append(np.mean((h_HF(xi_p) < 0).detach().numpy()))\n",
    "        IS_est_lst.append(wt_q[h_HF(xi_q) < 0].sum().item())\n",
    "    MC.append(MC_est_lst)\n",
    "    IS.append(IS_est_lst)\n",
    "\n",
    "# for j in range(num_trial_gm):\n",
    "#     GM_est_lst = []\n",
    "#     for MC_N in MC_N_lst:\n",
    "#         GM_est_lst.append(gaussian_mix(est, h_HF, MC_N))\n",
    "#     GM.append(GM_est_lst)\n",
    "\n",
    "MC      = np.array(MC)\n",
    "IS      = np.array(IS)\n",
    "GM      = np.array(GM)\n",
    "MC_mean = np.nanmean(MC, axis=0)\n",
    "MC_std  = np.nanstd(MC, axis=0)\n",
    "IS_mean = np.nanmean(IS, axis=0)\n",
    "IS_std  = np.nanstd(IS, axis=0)\n",
    "GM_mean = np.nanmean(GM, axis=0)\n",
    "GM_std  = np.nanstd(GM, axis=0)\n",
    "MC_err  = ((MC - ExH)**2)\n",
    "IS_err  = ((IS - ExH)**2)\n",
    "GM_err  = ((GM - ExH)**2)\n",
    "MC_rmse = np.sqrt(np.nanmean(MC_err, axis=0))\n",
    "IS_rmse = np.sqrt(np.nanmean(IS_err, axis=0))\n",
    "GM_rmse = np.sqrt(np.nanmean(GM_err, axis=0))"
   ]
  },
  {
   "cell_type": "code",
   "execution_count": 15,
   "metadata": {},
   "outputs": [
    {
     "data": {
      "image/png": "[encoded data removed]",
      "text/plain": [
       "<Figure size 864x288 with 2 Axes>"
      ]
     },
     "metadata": {
      "needs_background": "light"
     },
     "output_type": "display_data"
    }
   ],
   "source": [
    "fig, axs = plt.subplots(1, 2, figsize=(12, 4))\n",
    "fig.suptitle('OneK Dim Example', fontsize=20)\n",
    "scale = 1.96\n",
    "\n",
    "axs[0].fill_between(MC_N_lst, MC_mean-scale*MC_std, MC_mean+scale*MC_std,color='b',alpha=0.2,label='MC')\n",
    "axs[0].fill_between(MC_N_lst, IS_mean-scale*IS_std, IS_mean+scale*IS_std,color='g',alpha=0.2,label='L-BF-IS')\n",
    "#axs[0].fill_between(MC_N_lst, GM_mean-scale*GM_std, GM_mean+scale*GM_std,color='r',alpha=0.2,label='GM')\n",
    "axs[0].axhline(ExH,c='r',label=r'$P^{HF}$')\n",
    "axs[0].set_xscale('log')\n",
    "axs[0].set_xlabel('HF Sample Size')\n",
    "axs[0].set_ylabel('Estimator Value')\n",
    "axs[0].legend()\n",
    "axs[0].set_title(f'$\\ell={est.ell:.4f}$')\n",
    "\n",
    "axs[1].plot(MC_N_lst, MC_rmse,color='b',alpha=1.0,label='MC')\n",
    "axs[1].plot(MC_N_lst, IS_rmse,color='g',alpha=1.0,label='L-BF-IS')\n",
    "#axs[1].plot(MC_N_lst, GM_rmse,color='r',alpha=1.0,label='GM')\n",
    "axs[1].set_xscale('log')\n",
    "axs[1].set_yscale('log')\n",
    "axs[1].set_xlabel('HF Sample Size')\n",
    "axs[1].set_ylabel('RMSE')\n",
    "axs[1].legend()\n",
    "axs[1].set_title(f'$\\ell={est.ell:.4f}$')\n",
    "\n",
    "fig.tight_layout()\n",
    "# fig.savefig('../figures/cav.pdf', dpi=100)"
   ]
  }
 ],
 "metadata": {
  "kernelspec": {
   "display_name": "base",
   "language": "python",
   "name": "python3"
  },
  "language_info": {
   "codemirror_mode": {
    "name": "ipython",
    "version": 3
   },
   "file_extension": ".py",
   "mimetype": "text/x-python",
   "name": "python",
   "nbconvert_exporter": "python",
   "pygments_lexer": "ipython3",
   "version": "3.7.13"
  },
  "orig_nbformat": 4
 },
 "nbformat": 4,
 "nbformat_minor": 2
}
