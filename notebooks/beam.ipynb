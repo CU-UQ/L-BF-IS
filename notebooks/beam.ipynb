{
 "cells": [
  {
   "cell_type": "code",
   "execution_count": 2,
   "metadata": {},
   "outputs": [],
   "source": [
    "# import data\n",
    "from BidataGen import sample_p\n",
    "from BidataGen import beam_LF as LF\n",
    "from BidataGen import beam_HF as HF\n",
    "import numpy as np\n",
    "import matplotlib.pyplot as plt\n",
    "import torch"
   ]
  },
  {
   "cell_type": "code",
   "execution_count": 4,
   "metadata": {},
   "outputs": [
    {
     "name": "stdout",
     "output_type": "stream",
     "text": [
      "-3.1626112 -2.4730835\n"
     ]
    },
    {
     "data": {
      "image/png": "[encoded data removed]",
      "text/plain": [
       "<Figure size 432x288 with 1 Axes>"
      ]
     },
     "metadata": {
      "needs_background": "light"
     },
     "output_type": "display_data"
    }
   ],
   "source": [
    "num_variable = 4\n",
    "sample = lambda x: sample_p(x, num_variable)\n",
    "def h_LF(x):\n",
    "    ind = (x < -1).any(axis=1) + (x > 1).any(axis=1)\n",
    "    ans = -2.48 - LF(x)\n",
    "    ans[ind] = 100 * torch.norm(x[ind], dim=1)**2\n",
    "    return ans\n",
    "def h_HF(x):\n",
    "    ind = (x < -1).any(axis=1) + (x > 1).any(axis=1)\n",
    "    ans = -3.18 - HF(x)\n",
    "    ans[ind] = 100 * torch.norm(x[ind], dim=1)**2\n",
    "    return ans\n",
    "\n",
    "X = sample(1000)\n",
    "hf, lf = HF(X).detach().numpy(), LF(X).detach().numpy()\n",
    "plt.hist(hf, bins=20, alpha=0.5, label='HF')\n",
    "plt.hist(lf, bins=20, alpha=0.5, label='LF')\n",
    "plt.legend(loc='upper right')\n",
    "\n",
    "print('The 95\\% quantile of HF and LF are')\n",
    "print(np.sort(hf)[950], np.sort(lf)[950])\n",
    "# h_LF = h_HF"
   ]
  },
  {
   "cell_type": "code",
   "execution_count": 15,
   "metadata": {},
   "outputs": [
    {
     "name": "stdout",
     "output_type": "stream",
     "text": [
      "The failure probability of the high-fidelity model is 0.055454\n",
      "The optimal value of ell is 16.0\n"
     ]
    },
    {
     "data": {
      "image/png": "[encoded data removed]",
      "text/plain": [
       "<Figure size 432x288 with 1 Axes>"
      ]
     },
     "metadata": {
      "needs_background": "light"
     },
     "output_type": "display_data"
    }
   ],
   "source": [
    "# selcting optimal ell\n",
    "L = int(1e4)\n",
    "M = int(1e6)\n",
    "# fix samples\n",
    "samps_M = sample(M)\n",
    "samps_L = sample(L)\n",
    "h_samps_M = h_LF(samps_M)\n",
    "h_samps_L = h_LF(samps_L)\n",
    "h_samps_LL = h_LF(samps_L)\n",
    "\n",
    "ExH = np.mean((h_HF(samps_M) < 0).detach().numpy())\n",
    "print(\"The failure probability of the high-fidelity model is\", ExH)\n",
    "\n",
    "def Zl(ell):\n",
    "    return (-ell*torch.tanh(h_samps_M)).exp().sum() / M\n",
    "def V(ell):\n",
    "    varq1 = (torch.exp(ell*torch.tanh(h_samps_LL))[h_samps_L < 0]).sum() / L\n",
    "    varq2 = ((h_samps_L < 0).sum())**2 / (L**2)\n",
    "    return Zl(ell) * varq1 - varq2\n",
    "\n",
    "ell_lst = np.linspace(-2, 28, 31)\n",
    "V_lst = [V(torch.tensor(ell)).item() for ell in ell_lst]\n",
    "\n",
    "plt.plot(ell_lst, V_lst)\n",
    "plt.yscale('log')\n",
    "\n",
    "if torch.sum(h_samps_L < 0) > 0:\n",
    "    ell = ell_lst[torch.argmin(torch.tensor(V_lst))]\n",
    "else:\n",
    "    ell = 1.0\n",
    "print('The optimal value of ell is', ell)"
   ]
  },
  {
   "cell_type": "code",
   "execution_count": 16,
   "metadata": {},
   "outputs": [
    {
     "name": "stderr",
     "output_type": "stream",
     "text": [
      "100%|██████████| 20000/20000 [35:45<00:00,  9.32it/s] "
     ]
    },
    {
     "name": "stdout",
     "output_type": "stream",
     "text": [
      "The number of failures sampled by q is  5829\n",
      "The number of meaningful q samples is  10000\n"
     ]
    },
    {
     "name": "stderr",
     "output_type": "stream",
     "text": [
      "\n"
     ]
    }
   ],
   "source": [
    "from tqdm import tqdm\n",
    "\n",
    "Zc = Zl(ell)\n",
    "\n",
    "def potential(z):\n",
    "    return ell * torch.tanh(h_LF(z))\n",
    "\n",
    "def unadjusted_langevin_algorithm(potential, n_samples=int(1e4), step=0.01):\n",
    "    burn_in = 10000\n",
    "    Z0 = sample(1)\n",
    "    Zi = Z0\n",
    "    samples = []\n",
    "    for i in tqdm(range(n_samples + burn_in)):\n",
    "        Zi.requires_grad_()\n",
    "        u = potential(Zi).mean()\n",
    "        grad = torch.autograd.grad(u, Zi)[0]\n",
    "        Zi = Zi.detach() - step * grad + np.sqrt(2 * step) * torch.randn(1, num_variable)\n",
    "        samples.append(Zi.detach())\n",
    "    return torch.cat(samples, 0)[burn_in:]\n",
    "\n",
    "def log_Q(potential, z_prime, z, step):\n",
    "    z.requires_grad_()\n",
    "    grad = torch.autograd.grad(potential(z).mean(), z)[0]\n",
    "    return -(torch.norm(z_prime - z + step * grad, p=2, dim=1) ** 2) / (4 * step)\n",
    "\n",
    "def metropolis_adjusted_langevin_algorithm(potential, burn_in=int(1e3), n_samples=int(1e4), step=0.01):\n",
    "    Z0 = torch.zeros(1, num_variable)\n",
    "    Zi = Z0\n",
    "    samples = []\n",
    "    pbar = tqdm(range(n_samples + burn_in))\n",
    "    for i in pbar:\n",
    "        Zi.requires_grad_()\n",
    "        u = potential(Zi).mean()\n",
    "        grad = torch.autograd.grad(u, Zi)[0]\n",
    "        prop_Zi = Zi.detach() - step * grad + np.sqrt(2 * step) * torch.randn(1, num_variable)\n",
    "        log_ratio = -potential(prop_Zi).mean() + potential(Zi).mean() +\\\n",
    "                    log_Q(potential, Zi, prop_Zi, step) - log_Q(potential, prop_Zi, Zi, step)\n",
    "        if torch.rand(1) < torch.exp(log_ratio):\n",
    "            Zi = prop_Zi\n",
    "        samples.append(Zi.detach())\n",
    "    return torch.cat(samples, 0)[burn_in:]\n",
    "\n",
    "def weight(x:torch.Tensor): # evaluate the unnormalized weight for the given xi\n",
    "    wt = Zc * (ell * torch.tanh(h_LF(x))).exp()\n",
    "    return wt\n",
    "\n",
    "q_lst = metropolis_adjusted_langevin_algorithm(potential, burn_in=int(1e4), n_samples=int(1e4), step=1e-3)\n",
    "print('The number of failures sampled by q is ', (h_HF(q_lst) < 0).sum().item())\n",
    "q_lst2 = q_lst[(q_lst < 1).all(axis=1) * (q_lst > -1).all(axis=1)]\n",
    "print('The number of meaningful q samples is ', q_lst2.shape[0])"
   ]
  },
  {
   "cell_type": "code",
   "execution_count": 17,
   "metadata": {},
   "outputs": [
    {
     "data": {
      "text/plain": [
       "<matplotlib.legend.Legend at 0x1409f1390>"
      ]
     },
     "execution_count": 17,
     "metadata": {},
     "output_type": "execute_result"
    },
    {
     "data": {
      "image/png": "[encoded data removed]",
      "text/plain": [
       "<Figure size 432x288 with 1 Axes>"
      ]
     },
     "metadata": {
      "needs_background": "light"
     },
     "output_type": "display_data"
    }
   ],
   "source": [
    "hf, lf, qf = HF(X).detach().numpy(), LF(X).detach().numpy(), HF(q_lst2[:1000]).detach().numpy()\n",
    "plt.hist(hf, bins=20, alpha=0.5, label='HF')\n",
    "plt.hist(lf, bins=20, alpha=0.5, label='LF')\n",
    "plt.hist(qf, bins=20, alpha=0.5, label='QF')\n",
    "plt.legend(loc='upper right')"
   ]
  },
  {
   "cell_type": "code",
   "execution_count": 18,
   "metadata": {},
   "outputs": [
    {
     "name": "stdout",
     "output_type": "stream",
     "text": [
      "tensor(0.0452)\n",
      "tensor(0.0057)\n",
      "0.055454\n"
     ]
    }
   ],
   "source": [
    "q_lst = q_lst2\n",
    "print((weight(q_lst)[h_HF(q_lst) < 0]).sum()/(len(q_lst)))\n",
    "print((weight(q_lst)[h_HF(q_lst) < 0]**2).sum()/(len(q_lst)))\n",
    "print(ExH)"
   ]
  },
  {
   "cell_type": "code",
   "execution_count": 46,
   "metadata": {},
   "outputs": [
    {
     "name": "stdout",
     "output_type": "stream",
     "text": [
      "There are  55990 samples producing LF failure.\n",
      "The number of samples used in the Gaussian mixture model is 1000\n",
      "(10000, 4) (10000,)\n"
     ]
    }
   ],
   "source": [
    "from sklearn.mixture import GaussianMixture\n",
    "# Apply Gaussian mixture model for IS\n",
    "GM_samps_all = samps_M[h_LF(samps_M) < 0]\n",
    "print('There are ', GM_samps_all.shape[0], 'samples producing LF failure.')\n",
    "# Choose 1000 of them\n",
    "GM_trains = GM_samps_all[:1000]\n",
    "print('The number of samples used in the Gaussian mixture model is', GM_trains.shape[0])\n",
    "GM_model = GaussianMixture(n_components=10, random_state=0).fit(GM_trains.detach().numpy())\n",
    "GM_samps = GM_model.sample(10000)[0]\n",
    "GM_wegts = 0.5**num_variable * (np.exp(- GM_model.score_samples(GM_samps)))\n",
    "print(GM_samps.shape, GM_wegts.shape)"
   ]
  },
  {
   "cell_type": "code",
   "execution_count": 47,
   "metadata": {},
   "outputs": [
    {
     "data": {
      "text/plain": [
       "<matplotlib.legend.Legend at 0x142f4cdd0>"
      ]
     },
     "execution_count": 47,
     "metadata": {},
     "output_type": "execute_result"
    },
    {
     "data": {
      "image/png": "[encoded data removed]",
      "text/plain": [
       "<Figure size 432x288 with 1 Axes>"
      ]
     },
     "metadata": {
      "needs_background": "light"
     },
     "output_type": "display_data"
    }
   ],
   "source": [
    "gf = HF(torch.from_numpy(GM_samps[:1000]).type(torch.FloatTensor)).detach().numpy()\n",
    "plt.hist(hf, bins=20, alpha=0.5, label='HF')\n",
    "plt.hist(lf, bins=20, alpha=0.5, label='LF')\n",
    "plt.hist(qf, bins=20, alpha=0.5, label='QF')\n",
    "plt.hist(gf, bins=20, alpha=0.5, label='GF')\n",
    "plt.legend(loc='upper right')"
   ]
  },
  {
   "cell_type": "code",
   "execution_count": 48,
   "metadata": {},
   "outputs": [],
   "source": [
    "MC_N_lst = (10**np.linspace(1, 4, 10)).astype('int')\n",
    "MC = []\n",
    "IS = []\n",
    "GM = []\n",
    "num_trial = 100\n",
    "num_trial_gm = 10\n",
    "for j in range(num_trial):\n",
    "    MC_est_lst = []\n",
    "    IS_est_lst = []\n",
    "    GM_est_lst = []\n",
    "    for MC_N in MC_N_lst:\n",
    "        xi_p = sample(MC_N) # sample MC xi_p\n",
    "        ind = np.random.choice(len(q_lst),MC_N)\n",
    "        xi_q = q_lst[ind] # sample xi_q\n",
    "        xi_g = torch.from_numpy(GM_samps[ind]).type(torch.FloatTensor) # sample xi_g\n",
    "        wt_q = weight(xi_q) / MC_N\n",
    "        wt_g = GM_wegts[ind] / MC_N\n",
    "        MC_est_lst.append(np.mean((h_HF(xi_p) < 0).detach().numpy()))\n",
    "        IS_est_lst.append(wt_q[h_HF(xi_q) < 0].sum().item())\n",
    "        GM_est_lst.append(wt_g[h_HF(xi_g) < 0].sum().item())\n",
    "    MC.append(MC_est_lst)\n",
    "    IS.append(IS_est_lst)\n",
    "    GM.append(GM_est_lst)\n",
    "\n",
    "MC      = np.array(MC)\n",
    "IS      = np.array(IS)\n",
    "GM      = np.array(GM)\n",
    "MC_mean = np.nanmean(MC, axis=0)\n",
    "MC_std  = np.nanstd(MC, axis=0)\n",
    "IS_mean = np.nanmean(IS, axis=0)\n",
    "IS_std  = np.nanstd(IS, axis=0)\n",
    "GM_mean = np.nanmean(GM, axis=0)\n",
    "GM_std  = np.nanstd(GM, axis=0)\n",
    "MC_err  = ((MC - ExH)**2)\n",
    "IS_err  = ((IS - ExH)**2)\n",
    "GM_err  = ((GM - ExH)**2)\n",
    "MC_rmse = np.sqrt(np.nanmean(MC_err, axis=0))\n",
    "IS_rmse = np.sqrt(np.nanmean(IS_err, axis=0))\n",
    "GM_rmse = np.sqrt(np.nanmean(GM_err, axis=0))"
   ]
  },
  {
   "cell_type": "code",
   "execution_count": null,
   "metadata": {},
   "outputs": [
    {
     "data": {
      "image/png": "[encoded data removed]",
      "text/plain": [
       "<Figure size 864x288 with 2 Axes>"
      ]
     },
     "metadata": {
      "needs_background": "light"
     },
     "output_type": "display_data"
    }
   ],
   "source": [
    "fig, axs = plt.subplots(1, 2, figsize=(12, 4))\n",
    "fig.suptitle('Composite Beam', fontsize=20)\n",
    "scale = 1.96\n",
    "\n",
    "axs[0].fill_between(MC_N_lst, MC_mean-scale*MC_std, MC_mean+scale*MC_std,color='b',alpha=0.2,label='MC')\n",
    "axs[0].fill_between(MC_N_lst, IS_mean-scale*IS_std, IS_mean+scale*IS_std,color='g',alpha=0.2,label='L-BF-IS')\n",
    "axs[0].fill_between(MC_N_lst, GM_mean-scale*GM_std, GM_mean+scale*GM_std,color='r',alpha=0.2,label='GM')\n",
    "axs[0].axhline(ExH,c='r',label=r'$P^{HF}$')\n",
    "axs[0].set_xscale('log')\n",
    "axs[0].set_xlabel(r'HF Sample Size $N$')\n",
    "axs[0].set_ylabel('Estimator Value')\n",
    "axs[0].legend()\n",
    "axs[0].set_title(f'$\\ell={ell:.2f}$')\n",
    "\n",
    "axs[1].plot(MC_N_lst, MC_rmse,color='b',alpha=1.0,label='MC')\n",
    "axs[1].plot(MC_N_lst, IS_rmse,color='g',alpha=1.0,label='L-BF-IS')\n",
    "axs[1].plot(MC_N_lst, GM_rmse,color='r',alpha=1.0,label='GM')\n",
    "axs[1].set_xscale('log')\n",
    "axs[1].set_yscale('log')\n",
    "axs[1].set_xlabel(r'HF Sample Size $N$')\n",
    "axs[1].set_ylabel('RMSE')\n",
    "axs[1].legend()\n",
    "axs[1].set_title(f'$\\ell={ell:.2f}$')\n",
    "\n",
    "fig.tight_layout()\n",
    "# fig.savefig('../../figures/beam.pdf', dpi=100)"
   ]
  }
 ],
 "metadata": {
  "kernelspec": {
   "display_name": "base",
   "language": "python",
   "name": "python3"
  },
  "language_info": {
   "codemirror_mode": {
    "name": "ipython",
    "version": 3
   },
   "file_extension": ".py",
   "mimetype": "text/x-python",
   "name": "python",
   "nbconvert_exporter": "python",
   "pygments_lexer": "ipython3",
   "version": "3.7.13"
  },
  "orig_nbformat": 4
 },
 "nbformat": 4,
 "nbformat_minor": 2
}
