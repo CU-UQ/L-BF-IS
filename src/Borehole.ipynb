{
 "cells": [
  {
   "cell_type": "code",
   "execution_count": 1,
   "metadata": {},
   "outputs": [
    {
     "data": {
      "text/plain": [
       "<torch._C.Generator at 0x10ef06090>"
      ]
     },
     "execution_count": 1,
     "metadata": {},
     "output_type": "execute_result"
    }
   ],
   "source": [
    "# import data\n",
    "from BidataGen import bh_HF as HF\n",
    "from BidataGen import bh_LF as LF\n",
    "from BidataGen import sample_p_bh as sample\n",
    "import numpy as np\n",
    "import matplotlib.pyplot as plt\n",
    "import torch\n",
    "\n",
    "torch.manual_seed(0)"
   ]
  },
  {
   "attachments": {},
   "cell_type": "markdown",
   "metadata": {},
   "source": [
    "# Borehole Problem \n",
    "\n",
    "This notebook shows an example about how to implement Langevin Bi-fidelity Importance Sampling (L-BF-IS) to the failure probability estimation on the Borehole problem. \n",
    "\n",
    "## Step 1: Define LF and HF functions for failure probability estimation\n",
    "\n",
    "We define the status of failure when the quantity of interests (QoIs) are higher than some thresholds. For the HF function, we define the threshold to be 800. For the LF function, the threshold is roughly estimated as 1000. Noted that the threshold for the LF function is usually estimated from our rough estimation from our knowledge on HF threshold. For example, we assume to know the approximated range for the HF failure probability ~1% in this problem. Since sampling LF samples are relatively cheap, we let the LF threshold to be a value such that the LF failure estimation is also closed to ~1%."
   ]
  },
  {
   "cell_type": "code",
   "execution_count": 3,
   "metadata": {},
   "outputs": [],
   "source": [
    "# define the input dimension\n",
    "num_variable = 8\n",
    "\n",
    "# define LF and HF functions\n",
    "def h_LF(x):\n",
    "    ind1 = (x[:,:2] < -10).any(axis=1) + (x[:,:2] > 10).any(axis=1)\n",
    "    ind2 = (x[:,2:] < -1).any(axis=1) + (x[:,2:] > 1).any(axis=1)\n",
    "    ans = 1000 - LF(x)\n",
    "    ans[ind1] = torch.norm(x[ind1], dim=1)**2\n",
    "    ans[ind2] = 100 * torch.norm(x[ind2], dim=1)**2\n",
    "    return ans\n",
    "def h_HF(x):\n",
    "    ind1 = (x[:,:2] < -10).any(axis=1) + (x[:,:2] > 10).any(axis=1)\n",
    "    ind2 = (x[:,2:] < -1).any(axis=1) + (x[:,2:] > 1).any(axis=1)\n",
    "    ans = 800 - HF(x)\n",
    "    ans[ind1] = torch.norm(x[ind1], dim=1)**2\n",
    "    ans[ind2] = 100 * torch.norm(x[ind2], dim=1)**2\n",
    "    return ans"
   ]
  },
  {
   "attachments": {},
   "cell_type": "markdown",
   "metadata": {},
   "source": [
    "## Step 2: Estimating parameters\n",
    "\n",
    "The most key (hyper-)parameter of L-BF-IS is $\\ell$. We propose two methods to approximate the optimal value of $\\ell$ so that the estimator variance is reduced. The following codes are used for implementing these two methods."
   ]
  },
  {
   "cell_type": "code",
   "execution_count": 5,
   "metadata": {},
   "outputs": [
    {
     "name": "stdout",
     "output_type": "stream",
     "text": [
      "The probability of h_HF < 0 is:  0.017046\n"
     ]
    }
   ],
   "source": [
    "# selcting optimal ell\n",
    "L = int(1e2)\n",
    "M = int(1e6)\n",
    "num_trial_ell = 10\n",
    "\n",
    "# fix samples\n",
    "samps_M = sample(M)\n",
    "h_samps_M = h_LF(samps_M)\n",
    "\n",
    "# Compute the true failure probability\n",
    "# you don't (cannot) do this in practice\n",
    "ExH = np.mean((h_HF(samps_M) < 0).detach().numpy())\n",
    "print(\"The probability of h_HF < 0 is: \", ExH)\n",
    "\n",
    "# define function Z(ell) and a variance function for estimator variation computation\n",
    "def Zl(ell):\n",
    "    return (-ell * torch.tanh(h_samps_M)).exp().sum() / M\n",
    "def V(ell, A, B):\n",
    "    return Zl(ell) * ((ell * torch.tanh(B)).exp()[A < 0]).sum()\n",
    "\n",
    "# start collecting estimator variance given different ell\n",
    "# we find the best ell using line search\n",
    "ell_lst = torch.linspace(1, 20, 43)\n",
    "Var1_lst, Var2_lst = [], []\n",
    "for _ in range(num_trial_ell):\n",
    "    samps_L = sample(L)\n",
    "    h_samps_L = h_HF(samps_L)\n",
    "    h_samps_LL = h_LF(samps_L)\n",
    "    V_lst = [V(ell, h_samps_L, h_samps_LL).item() for ell in ell_lst]\n",
    "    Var1_lst.append(V_lst)\n",
    "\n",
    "    samps_L = sample(M)\n",
    "    h_samps_L = h_LF(samps_L)\n",
    "    h_samps_LL = h_LF(samps_L)\n",
    "    Var_lst = [V(ell, h_samps_L, h_samps_LL).item() for ell in ell_lst]\n",
    "    Var2_lst.append(Var_lst)\n",
    "Var1_lst, Var2_lst = np.array(Var1_lst), np.array(Var2_lst)\n",
    "Var2_lst /= (M / L)\n",
    "Var1_mean, Var2_mean = np.nanmean(Var1_lst, axis=0), np.nanmean(Var2_lst, axis=0)\n",
    "Var1_std, Var2_std = np.nanstd(Var1_lst, axis=0), np.nanstd(Var2_lst, axis=0)"
   ]
  },
  {
   "cell_type": "code",
   "execution_count": 6,
   "metadata": {},
   "outputs": [
    {
     "name": "stdout",
     "output_type": "stream",
     "text": [
      "Smallest $\\ell$ for approach one:  tensor(20.)\n",
      "Smallest $\\ell$ for approach two:  tensor(3.7143)\n"
     ]
    },
    {
     "data": {
      "image/png": "[encoded data removed]",
      "text/plain": [
       "<Figure size 864x288 with 2 Axes>"
      ]
     },
     "metadata": {
      "needs_background": "light"
     },
     "output_type": "display_data"
    }
   ],
   "source": [
    "# Visualize the estimation\n",
    "fig, axs = plt.subplots(1, 2, figsize=(12, 4))\n",
    "axs[0].errorbar(ell_lst, Var1_mean, yerr=1.94*Var1_std)\n",
    "axs[0].set_xlabel(r'$\\ell$', fontsize=14)\n",
    "axs[0].set_ylabel('Estimated Variance', fontsize=14)\n",
    "axs[0].set_title('Approach One', fontsize=20)\n",
    "axs[0].set_yscale('log')\n",
    "\n",
    "axs[1].errorbar(ell_lst, Var2_mean, yerr=1.94*Var2_std)\n",
    "axs[1].set_xlabel(r'$\\ell$', fontsize=14)\n",
    "axs[1].set_ylabel('Estimated Variance', fontsize=14)\n",
    "axs[1].set_title('Approach Two', fontsize=20)\n",
    "axs[1].set_yscale('log')\n",
    "\n",
    "plt.tight_layout()\n",
    "\n",
    "# fig.savefig('../figures/borehole-ell.pdf', dpi=300, bbox_inches='tight')\n",
    "\n",
    "print(r'Smallest $\\ell$ for approach one: ', ell_lst[np.argmin(Var1_mean)])\n",
    "print(r'Smallest $\\ell$ for approach two: ', ell_lst[np.argmin(Var2_mean)])\n",
    "\n",
    "# we choose the value of ell that minimize our estimator variance\n",
    "ell = ell_lst[np.argmin(Var2_mean)]"
   ]
  },
  {
   "attachments": {},
   "cell_type": "markdown",
   "metadata": {},
   "source": [
    "## Step 3: Apply the Langevin algorithm for sampling the biasing distribution \n",
    "\n",
    "The following codes implementing the unadjusted Langevin algorithm and the Metropolis-adjusted Langevin algorithm for sampling the biasing distribution. \n",
    "\n",
    "The codes are built based on [this GitHub page](https://github.com/abdulfatir/langevin-monte-carlo)."
   ]
  },
  {
   "cell_type": "code",
   "execution_count": 18,
   "metadata": {},
   "outputs": [
    {
     "name": "stderr",
     "output_type": "stream",
     "text": [
      "100%|██████████| 11000/11000 [02:02<00:00, 89.60it/s]"
     ]
    },
    {
     "name": "stdout",
     "output_type": "stream",
     "text": [
      "The number of failures sampled by q is  8065\n",
      "The number of meaningful q samples is  9999\n"
     ]
    },
    {
     "name": "stderr",
     "output_type": "stream",
     "text": [
      "\n"
     ]
    }
   ],
   "source": [
    "from tqdm import tqdm\n",
    "# compute the value of Z(ell) given fixed ell\n",
    "Zc = Zl(ell)\n",
    "\n",
    "def potential(z: torch.Tensor): # evaluate the potential function for the given z\n",
    "    return ell * torch.tanh(h_LF(z)) - torch.norm(z[:,0])**2 - torch.norm(z[:,1])**2  \n",
    "\n",
    "def log_Q(potential, z_prime, z, step):\n",
    "    z.requires_grad_()\n",
    "    grad = torch.autograd.grad(potential(z).mean(), z)[0]\n",
    "    return -(torch.norm(z_prime - z + step * grad, p=2, dim=1) ** 2) / (4 * step)\n",
    "\n",
    "def metropolis_adjusted_langevin_algorithm(iter_num=1000, step=0.01, burn_in=1000):\n",
    "    Z0 = torch.zeros(1, num_variable)\n",
    "    Zi = Z0\n",
    "    samples = []\n",
    "    pbar = tqdm(range(iter_num + burn_in))\n",
    "    for i in pbar:\n",
    "        Zi.requires_grad_()\n",
    "        u = potential(Zi).mean()\n",
    "        grad = torch.autograd.grad(u, Zi)[0]\n",
    "        prop_Zi = Zi.detach() - step * grad + np.sqrt(2 * step) * torch.randn(1, num_variable)\n",
    "        log_ratio = -potential(prop_Zi).mean() + potential(Zi).mean() +\\\n",
    "                    log_Q(potential, Zi, prop_Zi, step) - log_Q(potential, prop_Zi, Zi, step)\n",
    "        if torch.rand(1) < torch.exp(log_ratio):\n",
    "            Zi = prop_Zi\n",
    "        samples.append(Zi.detach())\n",
    "    return torch.cat(samples, 0)[burn_in:]\n",
    "\n",
    "def weight(x:torch.Tensor): # evaluate the unnormalized weight for the given xi\n",
    "    wt = Zc * (ell * torch.tanh(h_LF(x))).exp()\n",
    "    return wt\n",
    "\n",
    "q_lst = metropolis_adjusted_langevin_algorithm(iter_num=int(1e4), step=1e-4, burn_in=int(1e3))\n",
    "# check the number failures given the biasing distribution\n",
    "print('The number of failures sampled by q is ', (h_HF(q_lst) < 0).sum().item())\n",
    "# check the number of biasing samples that are out of the domain of this problem\n",
    "q_lst2 = q_lst[(q_lst[:,2:] < 1).all(axis=1) * (q_lst[:,2:] > -1).all(axis=1)]\n",
    "print('The number of meaningful q samples is ', q_lst2.shape[0])\n"
   ]
  },
  {
   "attachments": {},
   "cell_type": "markdown",
   "metadata": {},
   "source": [
    "## Step 3.5: Implement the Gaussian mixture method for building the biasing distribution"
   ]
  },
  {
   "cell_type": "code",
   "execution_count": 9,
   "metadata": {},
   "outputs": [
    {
     "name": "stdout",
     "output_type": "stream",
     "text": [
      "There are  23187 samples producing LF failure.\n",
      "The number of samples used in the Gaussian mixture model is 10000\n",
      "(7602, 8) (7602,)\n"
     ]
    }
   ],
   "source": [
    "from sklearn.mixture import GaussianMixture\n",
    "# Apply Gaussian mixture model for IS\n",
    "GM_samps_all = samps_M[h_LF(samps_M) < 0]\n",
    "print('There are ', GM_samps_all.shape[0], 'samples producing LF failure.')\n",
    "# Choose 1000 of them\n",
    "GM_trains = GM_samps_all[:10000]\n",
    "print('The number of samples used in the Gaussian mixture model is', GM_trains.shape[0])\n",
    "GM_model = GaussianMixture(n_components=3, random_state=0).fit(GM_trains.detach().numpy())\n",
    "GM_samps = GM_model.sample(10000)[0]\n",
    "GM_wegts = 0.5**num_variable * (np.exp(- GM_model.score_samples(GM_samps)))\n",
    "selected_ind = ((GM_samps[:,2:] < 1).all(axis=1) * (GM_samps[:,2:] > -1).all(axis=1))\n",
    "GM_samps, GM_wegts = GM_samps[selected_ind], GM_wegts[selected_ind]\n",
    "print(GM_samps.shape, GM_wegts.shape)"
   ]
  },
  {
   "attachments": {},
   "cell_type": "markdown",
   "metadata": {},
   "source": [
    "## Step 4: Compute results"
   ]
  },
  {
   "cell_type": "code",
   "execution_count": 202,
   "metadata": {},
   "outputs": [],
   "source": [
    "# ell = 7.34\n",
    "# q_lst = torch.load(f'../data/borehole/q-ell{ell:.2f}.pt')\n",
    "\n",
    "# Zc = Zl(ell)"
   ]
  },
  {
   "cell_type": "code",
   "execution_count": 21,
   "metadata": {},
   "outputs": [],
   "source": [
    "Max_N = min(len(q_lst), len(GM_samps))\n",
    "MC_N_lst = (10**np.linspace(1, 4, 10)).astype('int')\n",
    "MC = []\n",
    "IS = []\n",
    "GM = []\n",
    "num_trial = 10\n",
    "for j in range(num_trial):\n",
    "    MC_est_lst = []\n",
    "    IS_est_lst = []\n",
    "    GM_est_lst = []\n",
    "    for MC_N in MC_N_lst:\n",
    "        xi_p = sample(MC_N) # sample MC xi_p\n",
    "        ind = np.random.choice(Max_N,MC_N)\n",
    "        xi_q = q_lst[ind] # sample xi_q\n",
    "        xi_g = torch.from_numpy(GM_samps[ind]).type(torch.FloatTensor) # sample xi_g\n",
    "        wt_q = weight(xi_q) / MC_N\n",
    "        wt_g = GM_wegts[ind] / MC_N\n",
    "        MC_est_lst.append(np.mean((h_HF(xi_p) < 0).detach().numpy()))\n",
    "        IS_est_lst.append(wt_q[h_HF(xi_q) < 0].sum().item())\n",
    "        GM_est_lst.append(wt_g[h_HF(xi_g) < 0].sum().item())\n",
    "    MC.append(MC_est_lst)\n",
    "    IS.append(IS_est_lst)\n",
    "    GM.append(GM_est_lst)\n",
    "\n",
    "MC      = np.array(MC)\n",
    "IS      = np.array(IS)\n",
    "GM      = np.array(GM)\n",
    "MC_mean = np.nanmean(MC, axis=0)\n",
    "MC_std  = np.nanstd(MC, axis=0)\n",
    "IS_mean = np.nanmean(IS, axis=0)\n",
    "IS_std  = np.nanstd(IS, axis=0)\n",
    "GM_mean = np.nanmean(GM, axis=0)\n",
    "GM_std  = np.nanstd(GM, axis=0)\n",
    "MC_err  = ((MC - ExH)**2)\n",
    "IS_err  = ((IS - ExH)**2)\n",
    "GM_err  = ((GM - ExH)**2)\n",
    "MC_rmse = np.sqrt(np.nanmean(MC_err, axis=0))\n",
    "IS_rmse = np.sqrt(np.nanmean(IS_err, axis=0))\n",
    "GM_rmse = np.sqrt(np.nanmean(GM_err, axis=0))"
   ]
  },
  {
   "cell_type": "code",
   "execution_count": 25,
   "metadata": {},
   "outputs": [
    {
     "data": {
      "image/png": "[encoded data removed]",
      "text/plain": [
       "<Figure size 864x288 with 2 Axes>"
      ]
     },
     "metadata": {
      "needs_background": "light"
     },
     "output_type": "display_data"
    }
   ],
   "source": [
    "fig, axs = plt.subplots(1, 2, figsize=(12, 4))\n",
    "fig.suptitle(f'Borehole Low-Prob ($\\ell$={ell:.2f})', fontsize=20)\n",
    "scale = 1.96\n",
    "\n",
    "axs[0].fill_between(MC_N_lst, MC_mean-scale*MC_std, MC_mean+scale*MC_std,color='tab:purple',alpha=0.8,label='MC')\n",
    "axs[0].fill_between(MC_N_lst, IS_mean-scale*IS_std, IS_mean+scale*IS_std,color='tab:orange',alpha=0.8,label='L-BF-IS')\n",
    "axs[0].fill_between(MC_N_lst, GM_mean-scale*GM_std, GM_mean+scale*GM_std,color='r',alpha=0.2,label='MF-IS')\n",
    "axs[0].axhline(ExH,c='k',label=r'$P^{HF}$',lw=1.0)\n",
    "axs[0].set_xscale('log')\n",
    "axs[0].set_xlabel('HF Sample Size', fontsize=14)\n",
    "axs[0].set_ylabel('Estimator Value', fontsize=14)\n",
    "axs[0].legend()\n",
    "axs[0].set_title(f'$\\ell={ell:.2f}$')\n",
    "\n",
    "axs[1].plot(MC_N_lst, MC_rmse,color='tab:purple',alpha=1.0,label='MC',lw=4.0)\n",
    "axs[1].plot(MC_N_lst, IS_rmse,color='tab:orange',alpha=1.0,label='L-BF-IS',lw=4.0,ls='--')\n",
    "# axs[1].plot(MC_N_lst, GM_rmse,color='tab:pink',alpha=1.0,label='MF-IS',lw=4.0,ls=':')\n",
    "axs[1].set_xscale('log')\n",
    "axs[1].set_yscale('log')\n",
    "axs[1].set_xlabel(r'HF Sample Size $N$', fontsize=14)\n",
    "axs[1].set_ylabel('RMSE', fontsize=14)\n",
    "axs[1].legend()\n",
    "axs[1].set_title(f'$\\ell={ell:.2f}$')\n",
    "\n",
    "fig.tight_layout()\n",
    "# fig.savefig(f'../figures/borehole-lp-ell{ell:.2f}.pdf', dpi=300)"
   ]
  }
 ],
 "metadata": {
  "kernelspec": {
   "display_name": "base",
   "language": "python",
   "name": "python3"
  },
  "language_info": {
   "codemirror_mode": {
    "name": "ipython",
    "version": 3
   },
   "file_extension": ".py",
   "mimetype": "text/x-python",
   "name": "python",
   "nbconvert_exporter": "python",
   "pygments_lexer": "ipython3",
   "version": "3.7.13"
  },
  "orig_nbformat": 4
 },
 "nbformat": 4,
 "nbformat_minor": 2
}
